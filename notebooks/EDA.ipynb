{
 "cells": [
  {
   "cell_type": "markdown",
   "metadata": {},
   "source": [
    "# Exploratory Data Analysis\n",
    "\n",
    "This notebook does exploratory data analysis and formats the data, like removing low-quality examples and converting columns to numeric format."
   ]
  },
  {
   "cell_type": "code",
   "execution_count": 1,
   "metadata": {},
   "outputs": [],
   "source": [
    "import sys\n",
    "sys.path.append(\"../\")\n",
    "\n",
    "import random\n",
    "import re\n",
    "\n",
    "import numpy as np\n",
    "import pandas as pd\n",
    "import matplotlib.pyplot as plt\n",
    "plt.style.use('seaborn-whitegrid')\n",
    "\n",
    "from sklearn.feature_extraction.text import CountVectorizer"
   ]
  },
  {
   "cell_type": "code",
   "execution_count": 2,
   "metadata": {},
   "outputs": [
    {
     "data": {
      "text/html": [
       "<div>\n",
       "<style scoped>\n",
       "    .dataframe tbody tr th:only-of-type {\n",
       "        vertical-align: middle;\n",
       "    }\n",
       "\n",
       "    .dataframe tbody tr th {\n",
       "        vertical-align: top;\n",
       "    }\n",
       "\n",
       "    .dataframe thead th {\n",
       "        text-align: right;\n",
       "    }\n",
       "</style>\n",
       "<table border=\"1\" class=\"dataframe\">\n",
       "  <thead>\n",
       "    <tr style=\"text-align: right;\">\n",
       "      <th></th>\n",
       "      <th>story_id</th>\n",
       "      <th>question</th>\n",
       "      <th>answer_char_ranges</th>\n",
       "      <th>is_answer_absent</th>\n",
       "      <th>is_question_bad</th>\n",
       "      <th>validated_answers</th>\n",
       "    </tr>\n",
       "  </thead>\n",
       "  <tbody>\n",
       "    <tr>\n",
       "      <th>0</th>\n",
       "      <td>./cnn/stories/42d01e187213e86f5fe617fe32e716ff...</td>\n",
       "      <td>What was the amount of children murdered?</td>\n",
       "      <td>294:297|None|None</td>\n",
       "      <td>0.0</td>\n",
       "      <td>0.0</td>\n",
       "      <td>{\"none\": 1, \"294:297\": 2}</td>\n",
       "    </tr>\n",
       "    <tr>\n",
       "      <th>1</th>\n",
       "      <td>./cnn/stories/c48228a52f26aca65c31fad273e66164...</td>\n",
       "      <td>Where was one employee killed?</td>\n",
       "      <td>34:60|1610:1618|34:60</td>\n",
       "      <td>0.0</td>\n",
       "      <td>0.0</td>\n",
       "      <td>NaN</td>\n",
       "    </tr>\n",
       "    <tr>\n",
       "      <th>2</th>\n",
       "      <td>./cnn/stories/c65ed85800e4535f4bbbfa2c34d7d963...</td>\n",
       "      <td>who did say South Africa did not issue a visa ...</td>\n",
       "      <td>103:127|114:127|839:853</td>\n",
       "      <td>0.0</td>\n",
       "      <td>0.0</td>\n",
       "      <td>{\"839:853\": 1, \"103:127\": 2}</td>\n",
       "    </tr>\n",
       "    <tr>\n",
       "      <th>3</th>\n",
       "      <td>./cnn/stories/0cf66b646e9b32076513c050edf32a79...</td>\n",
       "      <td>How many years old was the businessman?</td>\n",
       "      <td>538:550|538:550</td>\n",
       "      <td>0.0</td>\n",
       "      <td>0.0</td>\n",
       "      <td>NaN</td>\n",
       "    </tr>\n",
       "    <tr>\n",
       "      <th>4</th>\n",
       "      <td>./cnn/stories/13012604e3203c18df09289dfedd14cd...</td>\n",
       "      <td>What frightened the families?</td>\n",
       "      <td>690:742|688:791|630:646</td>\n",
       "      <td>0.0</td>\n",
       "      <td>0.0</td>\n",
       "      <td>{\"688:791\": 2, \"690:742\": 1}</td>\n",
       "    </tr>\n",
       "  </tbody>\n",
       "</table>\n",
       "</div>"
      ],
      "text/plain": [
       "                                            story_id  \\\n",
       "0  ./cnn/stories/42d01e187213e86f5fe617fe32e716ff...   \n",
       "1  ./cnn/stories/c48228a52f26aca65c31fad273e66164...   \n",
       "2  ./cnn/stories/c65ed85800e4535f4bbbfa2c34d7d963...   \n",
       "3  ./cnn/stories/0cf66b646e9b32076513c050edf32a79...   \n",
       "4  ./cnn/stories/13012604e3203c18df09289dfedd14cd...   \n",
       "\n",
       "                                            question       answer_char_ranges  \\\n",
       "0          What was the amount of children murdered?        294:297|None|None   \n",
       "1                     Where was one employee killed?    34:60|1610:1618|34:60   \n",
       "2  who did say South Africa did not issue a visa ...  103:127|114:127|839:853   \n",
       "3            How many years old was the businessman?          538:550|538:550   \n",
       "4                      What frightened the families?  690:742|688:791|630:646   \n",
       "\n",
       "   is_answer_absent is_question_bad             validated_answers  \n",
       "0               0.0             0.0     {\"none\": 1, \"294:297\": 2}  \n",
       "1               0.0             0.0                           NaN  \n",
       "2               0.0             0.0  {\"839:853\": 1, \"103:127\": 2}  \n",
       "3               0.0             0.0                           NaN  \n",
       "4               0.0             0.0  {\"688:791\": 2, \"690:742\": 1}  "
      ]
     },
     "execution_count": 2,
     "metadata": {},
     "output_type": "execute_result"
    }
   ],
   "source": [
    "# Reading in the dataset\n",
    "df = pd.read_csv('../data/newsqa-data-v1.csv')\n",
    "df.head()"
   ]
  },
  {
   "cell_type": "code",
   "execution_count": 3,
   "metadata": {},
   "outputs": [
    {
     "data": {
      "text/plain": [
       "119633"
      ]
     },
     "execution_count": 3,
     "metadata": {},
     "output_type": "execute_result"
    }
   ],
   "source": [
    "# Size of the dataset\n",
    "len(df)"
   ]
  },
  {
   "cell_type": "code",
   "execution_count": 4,
   "metadata": {},
   "outputs": [
    {
     "data": {
      "text/plain": [
       "20051"
      ]
     },
     "execution_count": 4,
     "metadata": {},
     "output_type": "execute_result"
    }
   ],
   "source": [
    "# Convert to numeric and remove non-numeric rows\n",
    "df = df[pd.to_numeric(df['is_question_bad'], errors = 'coerce').notnull()]\n",
    "df['is_question_bad'] = df['is_question_bad'].astype(float)\n",
    "\n",
    "# Number of bad questions\n",
    "len(df[df['is_question_bad'] > 0])"
   ]
  },
  {
   "cell_type": "code",
   "execution_count": 5,
   "metadata": {},
   "outputs": [],
   "source": [
    "# Remove all bad questions/questions that don't make any sense\n",
    "df = df[df['is_question_bad'] == 0]\n",
    "df = df.reset_index(drop = True)"
   ]
  },
  {
   "cell_type": "code",
   "execution_count": 6,
   "metadata": {},
   "outputs": [
    {
     "data": {
      "text/plain": [
       "87810"
      ]
     },
     "execution_count": 6,
     "metadata": {},
     "output_type": "execute_result"
    }
   ],
   "source": [
    "# Final data size\n",
    "len(df)"
   ]
  },
  {
   "cell_type": "code",
   "execution_count": 7,
   "metadata": {},
   "outputs": [
    {
     "data": {
      "image/png": "[encoded data removed]",
      "text/plain": [
       "<Figure size 1440x432 with 2 Axes>"
      ]
     },
     "metadata": {},
     "output_type": "display_data"
    }
   ],
   "source": [
    "# Answer statistics\n",
    "fig, ax = plt.subplots(ncols = 2, figsize = (20, 6))\n",
    "\n",
    "atleast_one_no_ans = len(df[df['is_answer_absent'] != 0])\n",
    "sizes1 = [atleast_one_no_ans, len(df) - atleast_one_no_ans]\n",
    "labels1 = ['Atleast one said there\\'s no answer', 'Everyone said there\\'s an answer']\n",
    "ax[0].pie(sizes1, labels = labels1, autopct = '%1.0f%%', pctdistance = 0.5, labeldistance = 1.1)\n",
    "\n",
    "all_no_ans = len(df[df['is_answer_absent'] == 1])\n",
    "sizes2 = [all_no_ans, len(df) - all_no_ans]\n",
    "labels2 = ['Everyone said there\\'s no answer', 'Atleast one gave an answer']\n",
    "ax[1].pie(sizes2, labels = labels2, autopct = '%1.0f%%', pctdistance = 0.5, labeldistance = 1.1)\n",
    "\n",
    "plt.show()"
   ]
  },
  {
   "cell_type": "markdown",
   "metadata": {},
   "source": [
    "In 22% of the cases where some said there is no answer and some crowdworkers provided an answer, it might be possible that some crowdworkers did not find an answer. In those cases, we can ignore the 'None' answer."
   ]
  },
  {
   "cell_type": "code",
   "execution_count": 8,
   "metadata": {},
   "outputs": [
    {
     "data": {
      "text/plain": [
       "56.02209315567703"
      ]
     },
     "execution_count": 8,
     "metadata": {},
     "output_type": "execute_result"
    }
   ],
   "source": [
    "# Precentage of questions that have validated answers\n",
    "100*df['validated_answers'].isnull().sum()/len(df)"
   ]
  },
  {
   "cell_type": "code",
   "execution_count": 9,
   "metadata": {},
   "outputs": [
    {
     "name": "stdout",
     "output_type": "stream",
     "text": [
      "Story (2034 words):\n",
      "(CNN)  -- The mayor of a small town in the state of Chihuahua in northern Mexico was found shot dead Tuesday, apparently among the latest victims in the fight against organized crime in the region.\n",
      "\n",
      "Hector Ariel Meixueiro Munoz, 53, was mayor of Namiquipa, a small town in the state of Chihuahua.\n",
      "\n",
      "The body of Hector Ariel Meixueiro Munoz, 53, mayor of Namiquipa, was found inside his SUV on the side of a road on the outskirts of the rural town of 20,000, said Eduardo Esparza, spokesman for the attorney general in the state of Chihuahua.\n",
      "\n",
      "\"He was on his way to work in the morning,\" said Esparza. \"We are still trying to confirm if there was a police escort with him at the time.\"\n",
      "\n",
      "The incident has put other officials in the region on alert. Ciudad Juarez Mayor Jose Reyes Ferriz told CNN during a phone interview that death threats are common in his town on the other side of the Rio Grande from El Paso, Texas.\n",
      "\n",
      "\"It's very sad,\" he said. \"This mayor was fighting crime, he had received several threats, but he was brave. Several of the mayors have received threats and we take them seriously.\"\n",
      "\n",
      "Reyes Ferriz said the mayors of the state's large cities have the resources to take sufficient precautions, but for the mayors of smaller towns like Namiquipa, such security is a luxury they often cannot afford.\n",
      "\n",
      "The mayor of Juarez and his family are protected by a 24-hour security detail and are driven in bulletproof vehicles.\n",
      "\n",
      "\"Sadly, this has become part of the process in the fight to regain security in the cities,\" Reyes Ferriz said.\n",
      "\n",
      "Asked whether he feared for his life or those of his family, he would not say. \"All the fears of a public servant are private,\" he answered.\n",
      "\n",
      "@highlight\n",
      "\n",
      "Hector Ariel Meixueiro Munoz, 53, was mayor of Namiquipa in northern Mexico\n",
      "\n",
      "@highlight\n",
      "\n",
      "Fellow  mayor: He \"was fighting crime, he had received several threats\"\n",
      "\n",
      "@highlight\n",
      "\n",
      "Unlike mayors of bigger cities, mayors of smaller towns often can't afford security\n",
      "\n",
      "@highlight\n",
      "\n",
      "The incident has put other officials state of Chihuahua on alert\n",
      "\n",
      "Question (47 words): What was Hector Ariel Meixueiro Munoz mayor of?\n",
      "Answer:  miquipa, a \n",
      "Answer:   Namiquipa, a \n",
      "Answer:   the state of Chihuahua.\n",
      "\n",
      "T\n",
      "Answer:  miquipa, a small town in the state of Chihuahua.\n",
      "\n",
      "T\n"
     ]
    }
   ],
   "source": [
    "# Story, question, answer example\n",
    "# random.seed(0)\n",
    "idx = random.randint(0, len(df))\n",
    "with open(df['story_id'][idx]) as f:\n",
    "    story = f.read()\n",
    "    \n",
    "question = df['question'][idx]\n",
    "answers = re.split(',|\\|', df['answer_char_ranges'][idx])\n",
    "\n",
    "print(\"Story ({} words):\".format(len(story)))\n",
    "print(story)\n",
    "print(\"\\nQuestion ({} words): {}\".format(len(question), question))\n",
    "\n",
    "for ans_range in answers:\n",
    "    if ans_range == 'None':\n",
    "        print(\"Answer: None\")\n",
    "    else:\n",
    "        indices = ans_range.split(':')\n",
    "        print(\"Answer: \", story[int(indices[0]):int(indices[1])])"
   ]
  },
  {
   "cell_type": "code",
   "execution_count": 10,
   "metadata": {},
   "outputs": [],
   "source": [
    "# Word counts in questions\n",
    "cv = CountVectorizer(stop_words = ['the', 'is', 'was', 'of', 'to', 'in'])\n",
    "dtm = cv.fit_transform(df['question']).toarray()\n",
    "\n",
    "word_counts = dtm.sum(axis = 0)"
   ]
  },
  {
   "cell_type": "code",
   "execution_count": 11,
   "metadata": {
    "scrolled": true
   },
   "outputs": [
    {
     "data": {
      "image/png": "[encoded data removed]",
      "text/plain": [
       "<Figure size 576x360 with 1 Axes>"
      ]
     },
     "metadata": {},
     "output_type": "display_data"
    }
   ],
   "source": [
    "# Plotting top 5 words\n",
    "fig, ax = plt.subplots(figsize = (8, 5))\n",
    "\n",
    "sorted_idx = np.argsort(word_counts)[::-1]\n",
    "vocab = np.array(cv.get_feature_names())\n",
    "\n",
    "top_words_idx = sorted_idx[:5]\n",
    "plt.bar(x = vocab[top_words_idx], height = word_counts[top_words_idx])\n",
    "\n",
    "for i in range(len(top_words_idx)):\n",
    "    plt.text(x = i - 0.2, y = word_counts[top_words_idx[i]] + 300, s = word_counts[top_words_idx[i]])\n",
    "\n",
    "plt.show()"
   ]
  },
  {
   "cell_type": "markdown",
   "metadata": {},
   "source": [
    "From this chart, we can see the types of questions in this dataset. Majority are 'What' questions followed by 'Who'."
   ]
  },
  {
   "cell_type": "code",
   "execution_count": 14,
   "metadata": {},
   "outputs": [],
   "source": [
    "# Removing the path and keeping just the file name in story_id\n",
    "df['story_id'] = df['story_id'].apply(lambda x: x.split('/')[-1].split('.')[0])"
   ]
  },
  {
   "cell_type": "code",
   "execution_count": 15,
   "metadata": {},
   "outputs": [],
   "source": [
    "# Saving the formatted data\n",
    "df.to_csv('../data/newsqa-data-formatted.csv', index = False)"
   ]
  }
 ],
 "metadata": {
  "kernelspec": {
   "display_name": "Python 3",
   "language": "python",
   "name": "python3"
  },
  "language_info": {
   "codemirror_mode": {
    "name": "ipython",
    "version": 3
   },
   "file_extension": ".py",
   "mimetype": "text/x-python",
   "name": "python",
   "nbconvert_exporter": "python",
   "pygments_lexer": "ipython3",
   "version": "3.8.3"
  }
 },
 "nbformat": 4,
 "nbformat_minor": 4
}
