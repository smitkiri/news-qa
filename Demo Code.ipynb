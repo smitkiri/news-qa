{
 "cells": [
  {
   "cell_type": "markdown",
   "metadata": {},
   "source": [
    "# Demo Code\n",
    "\n",
    "This notebook serves as a demo notebook to run the code on a sample of the data since the actual version take several hours to run.\n",
    "Please go through the actual notebooks to read the notes written along with the code.\n",
    "\n",
    "Required folder structure to run this code:\n",
    "\n",
    "~/data/<br>\n",
    "&nbsp;&nbsp;&nbsp;&nbsp;\\-newsqa-data-v1.csv<br>\n",
    "&nbsp;&nbsp;&nbsp;&nbsp;\\-news_stories.pkl\n",
    "\n",
    "~\\newsqa.py<br>\n",
    "~\\utils.py<br>\n",
    "~\\\"Demo Code.ipynb\"<br>\n",
    "\n",
    "Please keep the above folder structure, pickle files tend to be sensitive to folder structure.\n",
    "\n",
    "**Do not run this on a local computer. The BERT model takes nearly 25 minutes to run a single epoch running on a NVIDIA Tesla K80**"
   ]
  },
  {
   "cell_type": "code",
   "execution_count": 1,
   "metadata": {},
   "outputs": [],
   "source": [
    "# Required imports\n",
    "import warnings\n",
    "warnings.filterwarnings(\"ignore\")\n",
    "\n",
    "import random\n",
    "import re\n",
    "import utils\n",
    "import os.path\n",
    "\n",
    "import numpy as np\n",
    "import pandas as pd\n",
    "import matplotlib.pyplot as plt\n",
    "plt.style.use('seaborn-whitegrid')\n",
    "\n",
    "from sklearn.feature_extraction.text import CountVectorizer\n",
    "from newsqa import NewsQaExample, NewsQaModel, create_dataset, get_single_prediction\n",
    "\n",
    "from transformers import BertTokenizer, BertForQuestionAnswering\n",
    "from transformers import DistilBertTokenizer, DistilBertForQuestionAnswering\n",
    "\n",
    "import torch\n",
    "from torch.utils.data import DataLoader, RandomSampler, SequentialSampler\n",
    "device = torch.device(\"cuda:0\" if torch.cuda.is_available() else \"cpu\")\n",
    "torch.manual_seed(0)\n",
    "\n",
    "\n",
    "from sklearn.metrics.pairwise import cosine_similarity\n",
    "import spacy\n",
    "\n",
    "from spacy.lang.en import English\n",
    "import en_core_web_md\n",
    "nlp = en_core_web_md.load()\n",
    "en = English()"
   ]
  },
  {
   "cell_type": "markdown",
   "metadata": {},
   "source": [
    "## EDA"
   ]
  },
  {
   "cell_type": "code",
   "execution_count": 2,
   "metadata": {},
   "outputs": [
    {
     "data": {
      "text/html": [
       "<div>\n",
       "<style scoped>\n",
       "    .dataframe tbody tr th:only-of-type {\n",
       "        vertical-align: middle;\n",
       "    }\n",
       "\n",
       "    .dataframe tbody tr th {\n",
       "        vertical-align: top;\n",
       "    }\n",
       "\n",
       "    .dataframe thead th {\n",
       "        text-align: right;\n",
       "    }\n",
       "</style>\n",
       "<table border=\"1\" class=\"dataframe\">\n",
       "  <thead>\n",
       "    <tr style=\"text-align: right;\">\n",
       "      <th></th>\n",
       "      <th>story_id</th>\n",
       "      <th>question</th>\n",
       "      <th>answer_char_ranges</th>\n",
       "      <th>is_answer_absent</th>\n",
       "      <th>is_question_bad</th>\n",
       "      <th>validated_answers</th>\n",
       "    </tr>\n",
       "  </thead>\n",
       "  <tbody>\n",
       "    <tr>\n",
       "      <th>0</th>\n",
       "      <td>./cnn/stories/43a488c2d73b4f34122fc92c8df04670...</td>\n",
       "      <td>When was the plane crash?</td>\n",
       "      <td>2794:2805,372:382|398:410|372:382</td>\n",
       "      <td>0.0</td>\n",
       "      <td>0.0</td>\n",
       "      <td>{\"none\": 2}</td>\n",
       "    </tr>\n",
       "    <tr>\n",
       "      <th>1</th>\n",
       "      <td>./cnn/stories/91607b09ab00b8dff5d7b98387ed132a...</td>\n",
       "      <td>Where has Musharraf lived in exile?</td>\n",
       "      <td>1018:1035|1008:1035|1018:1035</td>\n",
       "      <td>0.0</td>\n",
       "      <td>0.0</td>\n",
       "      <td>NaN</td>\n",
       "    </tr>\n",
       "    <tr>\n",
       "      <th>2</th>\n",
       "      <td>./cnn/stories/c674fdceb339915df2a9de1a0bd3007c...</td>\n",
       "      <td>What is he leaving?</td>\n",
       "      <td>529:543|None|237:252</td>\n",
       "      <td>0.0</td>\n",
       "      <td>0.333333333333</td>\n",
       "      <td>{\"237:252\": 2}</td>\n",
       "    </tr>\n",
       "    <tr>\n",
       "      <th>3</th>\n",
       "      <td>./cnn/stories/a0c2d26c2ebecd53dcecc9ea04ae8c5a...</td>\n",
       "      <td>What should the president understand?</td>\n",
       "      <td>None|4317:4469</td>\n",
       "      <td>0.5</td>\n",
       "      <td>0.5</td>\n",
       "      <td>{\"4317:4469\": 2}</td>\n",
       "    </tr>\n",
       "    <tr>\n",
       "      <th>4</th>\n",
       "      <td>./cnn/stories/ad2af6c1362a3f84000edd71fd752ad6...</td>\n",
       "      <td>Bush commutes whose sentence?</td>\n",
       "      <td>103:129,366:380,384:397,92:103|None</td>\n",
       "      <td>0.0</td>\n",
       "      <td>0.5</td>\n",
       "      <td>{\"103:129\": 2, \"366:380\": 1}</td>\n",
       "    </tr>\n",
       "  </tbody>\n",
       "</table>\n",
       "</div>"
      ],
      "text/plain": [
       "                                            story_id  \\\n",
       "0  ./cnn/stories/43a488c2d73b4f34122fc92c8df04670...   \n",
       "1  ./cnn/stories/91607b09ab00b8dff5d7b98387ed132a...   \n",
       "2  ./cnn/stories/c674fdceb339915df2a9de1a0bd3007c...   \n",
       "3  ./cnn/stories/a0c2d26c2ebecd53dcecc9ea04ae8c5a...   \n",
       "4  ./cnn/stories/ad2af6c1362a3f84000edd71fd752ad6...   \n",
       "\n",
       "                                question                   answer_char_ranges  \\\n",
       "0              When was the plane crash?    2794:2805,372:382|398:410|372:382   \n",
       "1    Where has Musharraf lived in exile?        1018:1035|1008:1035|1018:1035   \n",
       "2                    What is he leaving?                 529:543|None|237:252   \n",
       "3  What should the president understand?                       None|4317:4469   \n",
       "4          Bush commutes whose sentence?  103:129,366:380,384:397,92:103|None   \n",
       "\n",
       "   is_answer_absent is_question_bad             validated_answers  \n",
       "0               0.0             0.0                   {\"none\": 2}  \n",
       "1               0.0             0.0                           NaN  \n",
       "2               0.0  0.333333333333                {\"237:252\": 2}  \n",
       "3               0.5             0.5              {\"4317:4469\": 2}  \n",
       "4               0.0             0.5  {\"103:129\": 2, \"366:380\": 1}  "
      ]
     },
     "execution_count": 2,
     "metadata": {},
     "output_type": "execute_result"
    }
   ],
   "source": [
    "# Reading in the dataset\n",
    "data = pd.read_csv('data/newsqa-data-v1.csv')\n",
    "\n",
    "# Getting a sample from the dataset\n",
    "data = data.sample(frac = 0.01, random_state = 9)\n",
    "data = data.reset_index(drop = True)\n",
    "\n",
    "data.head()"
   ]
  },
  {
   "cell_type": "code",
   "execution_count": 3,
   "metadata": {},
   "outputs": [
    {
     "data": {
      "text/plain": [
       "1196"
      ]
     },
     "execution_count": 3,
     "metadata": {},
     "output_type": "execute_result"
    }
   ],
   "source": [
    "# Size of the dataset\n",
    "len(data)"
   ]
  },
  {
   "cell_type": "code",
   "execution_count": 4,
   "metadata": {},
   "outputs": [
    {
     "data": {
      "text/plain": [
       "198"
      ]
     },
     "execution_count": 4,
     "metadata": {},
     "output_type": "execute_result"
    }
   ],
   "source": [
    "# Convert to numeric and remove non-numeric rows\n",
    "data = data[pd.to_numeric(data['is_question_bad'], errors = 'coerce').notnull()]\n",
    "data['is_question_bad'] = data['is_question_bad'].astype(float)\n",
    "\n",
    "# Number of bad questions\n",
    "len(data[data['is_question_bad'] > 0])"
   ]
  },
  {
   "cell_type": "code",
   "execution_count": 5,
   "metadata": {},
   "outputs": [],
   "source": [
    "# Remove all bad questions/questions that don't make any sense\n",
    "data = data[data['is_question_bad'] == 0]\n",
    "data = data.reset_index(drop = True)"
   ]
  },
  {
   "cell_type": "code",
   "execution_count": 6,
   "metadata": {},
   "outputs": [
    {
     "data": {
      "text/plain": [
       "868"
      ]
     },
     "execution_count": 6,
     "metadata": {},
     "output_type": "execute_result"
    }
   ],
   "source": [
    "# Final data size\n",
    "len(data)"
   ]
  },
  {
   "cell_type": "code",
   "execution_count": 7,
   "metadata": {},
   "outputs": [
    {
     "data": {
      "image/png": "[encoded data removed]",
      "text/plain": [
       "<Figure size 1440x432 with 2 Axes>"
      ]
     },
     "metadata": {},
     "output_type": "display_data"
    }
   ],
   "source": [
    "# Answer statistics\n",
    "fig, ax = plt.subplots(ncols = 2, figsize = (20, 6))\n",
    "\n",
    "atleast_one_no_ans = len(data[data['is_answer_absent'] != 0])\n",
    "sizes1 = [atleast_one_no_ans, len(data) - atleast_one_no_ans]\n",
    "labels1 = ['Atleast one said there\\'s no answer', 'Everyone said there\\'s an answer']\n",
    "ax[0].pie(sizes1, labels = labels1, autopct = '%1.0f%%', pctdistance = 0.5, labeldistance = 1.1)\n",
    "\n",
    "all_no_ans = len(data[data['is_answer_absent'] == 1])\n",
    "sizes2 = [all_no_ans, len(data) - all_no_ans]\n",
    "labels2 = ['Everyone said there\\'s no answer', 'Atleast one gave an answer']\n",
    "ax[1].pie(sizes2, labels = labels2, autopct = '%1.0f%%', pctdistance = 0.5, labeldistance = 1.1)\n",
    "\n",
    "plt.show()"
   ]
  },
  {
   "cell_type": "code",
   "execution_count": 8,
   "metadata": {},
   "outputs": [
    {
     "data": {
      "text/plain": [
       "51.84331797235023"
      ]
     },
     "execution_count": 8,
     "metadata": {},
     "output_type": "execute_result"
    }
   ],
   "source": [
    "# Precentage of questions that have validated answers\n",
    "100*data['validated_answers'].isnull().sum()/len(data)"
   ]
  },
  {
   "cell_type": "code",
   "execution_count": 9,
   "metadata": {},
   "outputs": [],
   "source": [
    "# Word counts in questions\n",
    "cv = CountVectorizer(stop_words = ['the', 'is', 'was', 'of', 'to', 'in'])\n",
    "dtm = cv.fit_transform(data['question']).toarray()\n",
    "\n",
    "word_counts = dtm.sum(axis = 0)"
   ]
  },
  {
   "cell_type": "code",
   "execution_count": 10,
   "metadata": {},
   "outputs": [
    {
     "data": {
      "image/png": "[encoded data removed]",
      "text/plain": [
       "<Figure size 576x360 with 1 Axes>"
      ]
     },
     "metadata": {},
     "output_type": "display_data"
    }
   ],
   "source": [
    "# Plotting top 5 words\n",
    "fig, ax = plt.subplots(figsize = (8, 5))\n",
    "\n",
    "sorted_idx = np.argsort(word_counts)[::-1]\n",
    "vocab = np.array(cv.get_feature_names())\n",
    "\n",
    "top_words_idx = sorted_idx[:5]\n",
    "plt.bar(x = vocab[top_words_idx], height = word_counts[top_words_idx])\n",
    "\n",
    "for i in range(len(top_words_idx)):\n",
    "    plt.text(x = i - 0.2, y = word_counts[top_words_idx[i]] + 3, s = word_counts[top_words_idx[i]])\n",
    "\n",
    "plt.show()"
   ]
  },
  {
   "cell_type": "code",
   "execution_count": 11,
   "metadata": {},
   "outputs": [],
   "source": [
    "# Removing the path and keeping just the file name in story_id\n",
    "data['story_id'] = data['story_id'].apply(lambda x: x.split('/')[-1].split('.')[0])"
   ]
  },
  {
   "cell_type": "markdown",
   "metadata": {},
   "source": [
    "## Data Cleaning"
   ]
  },
  {
   "cell_type": "code",
   "execution_count": 12,
   "metadata": {},
   "outputs": [],
   "source": [
    "# We don't need is_answer_absent and is_question_bad columns\n",
    "data = data.drop(['is_answer_absent', 'is_question_bad'], axis = 1)"
   ]
  },
  {
   "cell_type": "code",
   "execution_count": 13,
   "metadata": {},
   "outputs": [],
   "source": [
    "# Reading stories\n",
    "NEWS_STORIES = utils.open_pickle('data/news_stories.pkl')"
   ]
  },
  {
   "cell_type": "code",
   "execution_count": 14,
   "metadata": {},
   "outputs": [],
   "source": [
    "def adjust_answer_range(story_id, answer_range):\n",
    "    '''\n",
    "    Checks if answer range starts or ends in the middle of a words\n",
    "    and returns the correct answer range along with answer text\n",
    "    \n",
    "    Parameters\n",
    "    ------------\n",
    "    story_id: str\n",
    "              The story id where the answer is present\n",
    "    \n",
    "    answer_range: str\n",
    "                  The answer range to check\n",
    "                  \n",
    "    Returns\n",
    "    -----------\n",
    "    [start_idx, end_idx]\n",
    "    '''\n",
    "    # If answer is not available, denote it as -1\n",
    "    if answer_range == 'None':\n",
    "        return [-1, -1]\n",
    "    \n",
    "    story = NEWS_STORIES[story_id]\n",
    "    \n",
    "    # Check for errors in answer\n",
    "    if len(answer_range.split(':')) == 1:\n",
    "        return [-1, -1]\n",
    "    \n",
    "    start_idx, end_idx = answer_range.split(':')\n",
    "    start_idx, end_idx = int(start_idx), int(end_idx)\n",
    "    \n",
    "    # Moves back start_idx to the start of a word\n",
    "    while start_idx != 0 and not utils.is_whitespace(story[start_idx - 1]) and not utils.is_punct(story[start_idx - 1]):\n",
    "        start_idx = start_idx - 1\n",
    "    \n",
    "    # Some ranges end with a punctuation or a whitespace\n",
    "    if utils.is_whitespace(story[end_idx - 1]) or utils.is_punct(story[end_idx - 1]):\n",
    "        end_idx = end_idx - 1\n",
    "    \n",
    "    # Moves end_idx to the end of a word\n",
    "    while not utils.is_whitespace(story[end_idx]) and not utils.is_punct(story[end_idx + 1]):\n",
    "        end_idx = end_idx + 1\n",
    "        \n",
    "    # There are some answers with \\n at the end followed by a letter\n",
    "    # The answer will not be in two different paragraphs\n",
    "    answer_text = story[start_idx:end_idx]\n",
    "    answer_para = re.split('\\n', answer_text)\n",
    "    \n",
    "    if len(answer_para[-1]) > len(answer_para[0]):\n",
    "        start_idx = end_idx - len(answer_para[-1])\n",
    "        answer_text = answer_para[-1]\n",
    "    else:\n",
    "        end_idx = start_idx + len(answer_para[0])\n",
    "        answer_text = answer_para[0]\n",
    "    \n",
    "    return [start_idx, end_idx]"
   ]
  },
  {
   "cell_type": "code",
   "execution_count": 15,
   "metadata": {},
   "outputs": [],
   "source": [
    "def get_answer(qa_details):\n",
    "    '''\n",
    "    A function that selects an answer for a question\n",
    "    \n",
    "    > If validated answers are available, the one with most votes is selected\n",
    "    > If there's a tie in validated answer votes or if validated answer is not\n",
    "      available, the most frequent answer is selected\n",
    "    > If there's a tie here too, a random answer is selected\n",
    "    \n",
    "    Parameters\n",
    "    ------------\n",
    "    qa_details: Pandas Series\n",
    "                Details of a QA pair, must include story_id, question, \n",
    "                answer_char_ranges, validated_answers as index\n",
    "    '''\n",
    "    # If validated answers are available, select the one with most votes\n",
    "    if qa_details['validated_answers'] is not np.nan:\n",
    "        validated_answers = eval(qa_details['validated_answers'])\n",
    "        \n",
    "        # Get the answers with maximum votes\n",
    "        max_vote_ans = utils.get_max_keys(validated_answers)\n",
    "        \n",
    "        # Check for ties\n",
    "        if len(max_vote_ans) == 1:\n",
    "            return adjust_answer_range(qa_details['story_id'], max_vote_ans[0])\n",
    "    \n",
    "    # If validated answers are not available or if there is a tie in validated answers\n",
    "    # Get all available answers\n",
    "    answers = re.split(',|\\|', qa_details['answer_char_ranges'])\n",
    "    \n",
    "    # If there is just one answer\n",
    "    if len(answers) == 1:\n",
    "        return adjust_answer_range(qa_details['story_id'], answers[0])\n",
    "    \n",
    "    # Get counts of each answer\n",
    "    answer_freq = utils.get_frequency(answers)\n",
    "    max_vote_ans = utils.get_max_keys(answer_freq)\n",
    "    \n",
    "    if len(max_vote_ans) == 1:\n",
    "        return adjust_answer_range(qa_details['story_id'], max_vote_ans[0])\n",
    "    \n",
    "    # If there is a tie for multiple answers, return a random answer\n",
    "    return adjust_answer_range(qa_details['story_id'], random.choice(answers))"
   ]
  },
  {
   "cell_type": "code",
   "execution_count": 16,
   "metadata": {},
   "outputs": [],
   "source": [
    "# Select one answer range among multiple answers\n",
    "data[['start_idx', 'end_idx']] = data.apply(get_answer, axis = 1, result_type = 'expand')"
   ]
  },
  {
   "cell_type": "code",
   "execution_count": 17,
   "metadata": {},
   "outputs": [
    {
     "data": {
      "text/html": [
       "<div>\n",
       "<style scoped>\n",
       "    .dataframe tbody tr th:only-of-type {\n",
       "        vertical-align: middle;\n",
       "    }\n",
       "\n",
       "    .dataframe tbody tr th {\n",
       "        vertical-align: top;\n",
       "    }\n",
       "\n",
       "    .dataframe thead th {\n",
       "        text-align: right;\n",
       "    }\n",
       "</style>\n",
       "<table border=\"1\" class=\"dataframe\">\n",
       "  <thead>\n",
       "    <tr style=\"text-align: right;\">\n",
       "      <th></th>\n",
       "      <th>story_id</th>\n",
       "      <th>question</th>\n",
       "      <th>answer_char_ranges</th>\n",
       "      <th>validated_answers</th>\n",
       "      <th>start_idx</th>\n",
       "      <th>end_idx</th>\n",
       "    </tr>\n",
       "  </thead>\n",
       "  <tbody>\n",
       "    <tr>\n",
       "      <th>511</th>\n",
       "      <td>515155cfbf26b42b9d66ec2ada5c1f0d598352e3</td>\n",
       "      <td>What are investigators trying to determine?</td>\n",
       "      <td>1864:1882|1864:1882</td>\n",
       "      <td>NaN</td>\n",
       "      <td>1862</td>\n",
       "      <td>1881</td>\n",
       "    </tr>\n",
       "    <tr>\n",
       "      <th>483</th>\n",
       "      <td>37686673ec29899e6c8fe88639aa52f0ae062f1c</td>\n",
       "      <td>Who have popularized the fist bump?</td>\n",
       "      <td>502:528|577:579,5920:5944,5948:5979,5993:6037|...</td>\n",
       "      <td>NaN</td>\n",
       "      <td>500</td>\n",
       "      <td>535</td>\n",
       "    </tr>\n",
       "    <tr>\n",
       "      <th>759</th>\n",
       "      <td>bc424cbf48b978f1a64fdd40ecff81dac48d37f8</td>\n",
       "      <td>What was Obama expected to do?</td>\n",
       "      <td>63:98|3001:3016,3019:3059|3001:3016,3019:3059</td>\n",
       "      <td>NaN</td>\n",
       "      <td>3001</td>\n",
       "      <td>3020</td>\n",
       "    </tr>\n",
       "    <tr>\n",
       "      <th>194</th>\n",
       "      <td>9b46d8524c55d9f5c6db59228777bf52d6469fc4</td>\n",
       "      <td>Who lived in the home?</td>\n",
       "      <td>110:138|110:138</td>\n",
       "      <td>NaN</td>\n",
       "      <td>110</td>\n",
       "      <td>137</td>\n",
       "    </tr>\n",
       "    <tr>\n",
       "      <th>830</th>\n",
       "      <td>9646c774f004b21fd056d86ea35b5aa3e7531f87</td>\n",
       "      <td>What areas of the world were affected?</td>\n",
       "      <td>2418:2444,2448:2455|None|0:8,321:330,333:351,8:16</td>\n",
       "      <td>{\"333:351\": 1, \"0:8\": 1, \"8:16\": 1}</td>\n",
       "      <td>8</td>\n",
       "      <td>15</td>\n",
       "    </tr>\n",
       "  </tbody>\n",
       "</table>\n",
       "</div>"
      ],
      "text/plain": [
       "                                     story_id  \\\n",
       "511  515155cfbf26b42b9d66ec2ada5c1f0d598352e3   \n",
       "483  37686673ec29899e6c8fe88639aa52f0ae062f1c   \n",
       "759  bc424cbf48b978f1a64fdd40ecff81dac48d37f8   \n",
       "194  9b46d8524c55d9f5c6db59228777bf52d6469fc4   \n",
       "830  9646c774f004b21fd056d86ea35b5aa3e7531f87   \n",
       "\n",
       "                                        question  \\\n",
       "511  What are investigators trying to determine?   \n",
       "483          Who have popularized the fist bump?   \n",
       "759               What was Obama expected to do?   \n",
       "194                       Who lived in the home?   \n",
       "830       What areas of the world were affected?   \n",
       "\n",
       "                                    answer_char_ranges  \\\n",
       "511                                1864:1882|1864:1882   \n",
       "483  502:528|577:579,5920:5944,5948:5979,5993:6037|...   \n",
       "759      63:98|3001:3016,3019:3059|3001:3016,3019:3059   \n",
       "194                                    110:138|110:138   \n",
       "830  2418:2444,2448:2455|None|0:8,321:330,333:351,8:16   \n",
       "\n",
       "                       validated_answers  start_idx  end_idx  \n",
       "511                                  NaN       1862     1881  \n",
       "483                                  NaN        500      535  \n",
       "759                                  NaN       3001     3020  \n",
       "194                                  NaN        110      137  \n",
       "830  {\"333:351\": 1, \"0:8\": 1, \"8:16\": 1}          8       15  "
      ]
     },
     "execution_count": 17,
     "metadata": {},
     "output_type": "execute_result"
    }
   ],
   "source": [
    "data.sample(n = 5)"
   ]
  },
  {
   "cell_type": "markdown",
   "metadata": {},
   "source": [
    "## Baseline Model"
   ]
  },
  {
   "cell_type": "code",
   "execution_count": 18,
   "metadata": {},
   "outputs": [],
   "source": [
    "# Total examples in the dataset\n",
    "total_examples = len(data)"
   ]
  },
  {
   "cell_type": "code",
   "execution_count": 19,
   "metadata": {},
   "outputs": [],
   "source": [
    "def simple_tokenizer(doc, model=en):\n",
    "    # a simple tokenizer for individual documents\n",
    "    parsed = model(doc)\n",
    "    return([t.lower_ for t in parsed if (t.is_alpha)&(not t.like_url)])"
   ]
  },
  {
   "cell_type": "code",
   "execution_count": 20,
   "metadata": {},
   "outputs": [],
   "source": [
    "def get_doc_embedding(tokens, model = nlp):\n",
    "    '''\n",
    "    Returns the embedding of a document by averaging the\n",
    "    GloVe embeddings of all tokens in the document\n",
    "    \n",
    "    Parameters\n",
    "    -----------\n",
    "    tokens: list\n",
    "            The list of document tokens\n",
    "    \n",
    "    model: The model to use for getting embeddings\n",
    "    '''\n",
    "    embeddings = []\n",
    "    for t in tokens:\n",
    "        embeddings.append(model.vocab[t].vector)\n",
    "    \n",
    "    embeddings = np.array(embeddings)\n",
    "    if embeddings.ndim == 1:\n",
    "        return embeddings\n",
    "    else:\n",
    "        return np.mean(embeddings, axis = 0)"
   ]
  },
  {
   "cell_type": "code",
   "execution_count": 21,
   "metadata": {},
   "outputs": [],
   "source": [
    "def predict_answer(text, question):\n",
    "    '''\n",
    "    Returns the start and end indices of the sentence that\n",
    "    has the maximum cosine similarity with the question\n",
    "    \n",
    "    Parameters\n",
    "    -----------\n",
    "    text: str\n",
    "          The text to find the answer in\n",
    "    \n",
    "    question: str\n",
    "              The question to answer\n",
    "    '''\n",
    "    # Stores the start position of each sentence\n",
    "    sentence_to_char_idx = [0]\n",
    "    \n",
    "    sentences = []\n",
    "    start_idx = 0\n",
    "    \n",
    "    for idx, char in enumerate(text):\n",
    "        # If the chracter is a punctuation, we append the sentence\n",
    "        if utils.is_punct(char):\n",
    "            sentences.append(text[start_idx:idx])\n",
    "            start_idx = idx + 1\n",
    "            sentence_to_char_idx.append(start_idx)\n",
    "    \n",
    "    # Getting embeddings for each sentence\n",
    "    sentence_embeddings = []\n",
    "    for s in sentences:\n",
    "        tokens = simple_tokenizer(s)\n",
    "        embd = get_doc_embedding(tokens)\n",
    "        if embd.shape == (300,):\n",
    "            sentence_embeddings.append(embd)\n",
    "    \n",
    "    sentence_embeddings = np.stack(sentence_embeddings)\n",
    "    \n",
    "    # Getting the embedding for the question\n",
    "    question_embedding = get_doc_embedding(simple_tokenizer(question))\n",
    "    question_embedding = np.expand_dims(question_embedding, axis = 0)\n",
    "    \n",
    "    #print(sentence_embeddings.shape)\n",
    "    # Get the cosine similarity of each sentence with the question\n",
    "    similarity = cosine_similarity(sentence_embeddings, question_embedding)\n",
    "    \n",
    "    # Get the sentence with the most similarity\n",
    "    best_idx = np.argmax(similarity)\n",
    "    \n",
    "    # Get the sentence start and end index\n",
    "    pred_start = sentence_to_char_idx[best_idx]\n",
    "    pred_end = sentence_to_char_idx[best_idx + 1] - 1\n",
    "    \n",
    "    return pred_start, pred_end"
   ]
  },
  {
   "cell_type": "code",
   "execution_count": 22,
   "metadata": {},
   "outputs": [],
   "source": [
    "def calculate_metrics(pred_start, pred_end, true_start, true_end):\n",
    "    '''\n",
    "    Calculates the f1 score and if the predicted answer overlaps \n",
    "    with the correct one\n",
    "\n",
    "    Parameters\n",
    "    -----------\n",
    "    pred_start, pred_end: int\n",
    "                          The predicted start and end indices\n",
    "\n",
    "    true_start, true_end: int\n",
    "                          The actual indices\n",
    "    '''\n",
    "    # Get the overlap\n",
    "    overlap = set(range(true_start, true_end)).intersection(range(pred_start, pred_end))\n",
    "    overlap = len(overlap)\n",
    "\n",
    "    # If either of them have no answer\n",
    "    if true_end == 0 or pred_end == 0:\n",
    "        f1_score = int(true_end == pred_end)\n",
    "        is_correct = int(end_idx == pred_end)\n",
    "        return f1_score, is_correct\n",
    "    \n",
    "    # If they don't overlap at all\n",
    "    if overlap == 0 or pred_start >= pred_end:\n",
    "        f1_score = 0\n",
    "        is_correct = 0\n",
    "        return f1_score, is_correct\n",
    "\n",
    "    # If there is an overlap, we consider it correct\n",
    "    is_correct = 1\n",
    "\n",
    "    precision = overlap / (pred_end - pred_start)\n",
    "    recall = overlap / (true_end - true_start)\n",
    "    f1_score = (2 * precision * recall) / (precision + recall)\n",
    "\n",
    "    return f1_score, is_correct"
   ]
  },
  {
   "cell_type": "code",
   "execution_count": 24,
   "metadata": {},
   "outputs": [
    {
     "name": "stdout",
     "output_type": "stream",
     "text": [
      "Progress: [====================] 868/868"
     ]
    }
   ],
   "source": [
    "# Evaluate the performance of this approach on the data\n",
    "# -- This takes a few seconds to run --\n",
    "correct = 0\n",
    "total_f1 = 0\n",
    "\n",
    "for idx, row in data.iterrows():\n",
    "    text = NEWS_STORIES[row['story_id']]\n",
    "    question = row['question']\n",
    "    \n",
    "    # Get the predictions\n",
    "    pred_start, pred_end = predict_answer(text, question)\n",
    "    f1, is_correct = calculate_metrics(pred_start, pred_end, row['start_idx'], row['end_idx'])\n",
    "    \n",
    "    total_f1 += f1\n",
    "    correct += is_correct\n",
    "    \n",
    "    # Print progress\n",
    "    utils.drawProgressBar(idx + 1, total_examples)\n",
    "    \n",
    "acc = correct/total_examples\n",
    "f1_score = total_f1/total_examples"
   ]
  },
  {
   "cell_type": "code",
   "execution_count": 25,
   "metadata": {},
   "outputs": [
    {
     "name": "stdout",
     "output_type": "stream",
     "text": [
      "F1 score: 0.0372\n",
      "Accuracy: 0.1164\n"
     ]
    }
   ],
   "source": [
    "print(\"F1 score: {:.4f}\".format(f1_score))\n",
    "print(\"Accuracy: {:.4f}\".format(acc))"
   ]
  },
  {
   "cell_type": "markdown",
   "metadata": {},
   "source": [
    "## Advanced models"
   ]
  },
  {
   "cell_type": "code",
   "execution_count": 26,
   "metadata": {},
   "outputs": [],
   "source": [
    "def get_examples():\n",
    "    '''\n",
    "    Return a list of NewsQaExample objects\n",
    "    '''\n",
    "    # If a pickle file exists for examples, read the file\n",
    "    if os.path.isfile('data/examples_sample.pkl'):\n",
    "        return utils.open_pickle('data/examples_sample.pkl')\n",
    "    \n",
    "    examples = []\n",
    "\n",
    "    for idx, row in data.iterrows():\n",
    "        ex = NewsQaExample(NEWS_STORIES[row['story_id']], row['question'], row['start_idx'], row['end_idx'])\n",
    "        examples.append(ex)\n",
    "        utils.drawProgressBar(idx + 1, total_examples)\n",
    "    print('\\n')\n",
    "    # Saving examples to a pickle file\n",
    "    utils.save_pickle('data/examples_sample.pkl', examples)\n",
    "    \n",
    "    return examples"
   ]
  },
  {
   "cell_type": "code",
   "execution_count": 27,
   "metadata": {},
   "outputs": [],
   "source": [
    "def get_datasets(examples, tokenizer_name):\n",
    "    '''\n",
    "    Returns train, val and test datasets from examples\n",
    "    \n",
    "    Parameters\n",
    "    ------------\n",
    "    examples: list\n",
    "              A list of NewsQaExample objects\n",
    "              \n",
    "    tokenizer_name: str\n",
    "                    The tokenizer to use\n",
    "    '''\n",
    "    model_name = tokenizer_name.split('-')[0]\n",
    "    \n",
    "    if os.path.isfile('data/sample_dataset_' + model_name + '.pkl'):\n",
    "        return utils.open_pickle('data/sample_dataset_' + model_name + '.pkl')\n",
    "    \n",
    "    features = []\n",
    "    labels = []\n",
    "    \n",
    "    if tokenizer_name == 'bert-large-uncased-whole-word-masking-finetuned-squad':\n",
    "        tokenizer = BertTokenizer.from_pretrained(tokenizer_name)\n",
    "    \n",
    "    if tokenizer_name == 'distilbert-base-uncased-distilled-squad':\n",
    "        tokenizer = DistilBertTokenizer.from_pretrained(tokenizer_name)\n",
    "    \n",
    "    print(\"Getting input features:\")\n",
    "    for idx, ex in enumerate(examples):\n",
    "        input_features = ex.encode_plus(tokenizer, pad = True)\n",
    "        features.append(input_features)\n",
    "        labels.append(ex.get_label())\n",
    "        utils.drawProgressBar(idx + 1, total_examples)\n",
    "    \n",
    "    print('\\n')\n",
    "    # Getting TensorDataset\n",
    "    train_set, val_set, test_set, feature_idx_map = create_dataset(features, labels, model = model_name)\n",
    "    # Saving the dataset in a file\n",
    "    utils.save_pickle('data/sample_dataset_' + model_name + '.pkl', (train_set, val_set, test_set, feature_idx_map))\n",
    "    \n",
    "    return (train_set, val_set, test_set, feature_idx_map)"
   ]
  },
  {
   "cell_type": "code",
   "execution_count": 28,
   "metadata": {},
   "outputs": [],
   "source": [
    "def get_dataloaders(train_set, val_set, test_set, batch_size):\n",
    "    '''\n",
    "    Creates torch dataloaders for train, validation and test sets\n",
    "    '''\n",
    "    train_loader = DataLoader(train_set, batch_size = BATCH_SIZE, \n",
    "                          sampler = RandomSampler(train_set))\n",
    "\n",
    "    val_loader = DataLoader(val_set, batch_size = BATCH_SIZE, \n",
    "                            sampler = SequentialSampler(val_set))\n",
    "\n",
    "    test_loader = DataLoader(test_set, batch_size = BATCH_SIZE, \n",
    "                             sampler = SequentialSampler(test_set))\n",
    "    \n",
    "    return train_loader, val_loader, test_loader"
   ]
  },
  {
   "cell_type": "code",
   "execution_count": 29,
   "metadata": {},
   "outputs": [],
   "source": [
    "def finetune_model(model_name, train_loader, val_loader, feature_idx_map, device, \n",
    "                   epochs = 1, learning_rate = 1e-5):\n",
    "    '''\n",
    "    Fine-tunes a pretrained model\n",
    "    '''\n",
    "    if model_name == 'bert-large-uncased-whole-word-masking-finetuned-squad':\n",
    "        model = BertForQuestionAnswering.from_pretrained(model_name)\n",
    "        # Freezing bert parameters\n",
    "        for param in model.bert.parameters():\n",
    "            param.requires_grad = False\n",
    "    \n",
    "    if model_name == 'distilbert-base-uncased-distilled-squad':\n",
    "        model = DistilBertForQuestionAnswering.from_pretrained(model_name)\n",
    "        # Freezing distilbert parameters\n",
    "        for param in model.distilbert.parameters():\n",
    "            param.requires_grad = False\n",
    "        \n",
    "    short_name = model_name.split('-')[0]\n",
    "    \n",
    "    newsqa_model = NewsQaModel(model)\n",
    "    newsqa_model.train(train_loader, val_loader, feature_idx_map, device, \n",
    "                       num_epochs = epochs, lr = learning_rate, \n",
    "                       filename = 'data/' + short_name + '_sample.pt')\n",
    "    \n",
    "    return newsqa_model"
   ]
  },
  {
   "cell_type": "code",
   "execution_count": 30,
   "metadata": {},
   "outputs": [
    {
     "name": "stdout",
     "output_type": "stream",
     "text": [
      "Progress: [====================] 868/868\n",
      "\n",
      "Variable successfully saved in data/examples_sample.pkl\n"
     ]
    }
   ],
   "source": [
    "# Get a list of NewsQaExample objects\n",
    "examples = get_examples()"
   ]
  },
  {
   "cell_type": "markdown",
   "metadata": {},
   "source": [
    "### BERT"
   ]
  },
  {
   "cell_type": "code",
   "execution_count": 31,
   "metadata": {},
   "outputs": [],
   "source": [
    "# Defining model name\n",
    "bert_model_name = 'bert-large-uncased-whole-word-masking-finetuned-squad'"
   ]
  },
  {
   "cell_type": "code",
   "execution_count": 32,
   "metadata": {},
   "outputs": [
    {
     "name": "stdout",
     "output_type": "stream",
     "text": [
      "Getting input features:\n",
      "Progress: [====================] 868/868\n",
      "\n",
      "Variable successfully saved in data/sample_dataset_bert.pkl\n"
     ]
    }
   ],
   "source": [
    "# Getting the training, validation and test sets\n",
    "# -- Takes a few seconds to run --\n",
    "bert_datasets = get_datasets(examples, bert_model_name)\n",
    "bert_train_set, bert_val_set, bert_test_set, bert_feature_idx_map = bert_datasets"
   ]
  },
  {
   "cell_type": "code",
   "execution_count": 33,
   "metadata": {},
   "outputs": [],
   "source": [
    "# Getting data loaders\n",
    "BATCH_SIZE = 32\n",
    "\n",
    "bert_loaders = get_dataloaders(bert_train_set, bert_val_set, bert_test_set, batch_size = BATCH_SIZE)\n",
    "bert_train_loader, bert_val_loader, bert_test_loader = bert_loaders"
   ]
  },
  {
   "cell_type": "code",
   "execution_count": 34,
   "metadata": {
    "scrolled": false
   },
   "outputs": [
    {
     "name": "stdout",
     "output_type": "stream",
     "text": [
      "Epoch 1/1:\n",
      "Progress: [====================] 19/19  24m 12s\tloss: 4.9133\tf1: 0.2558\tacc: 0.4318\tval_loss: 4.4282\tval_f1: 0.2080\tval_acc: 0.3665\n",
      "Validation accuracy increased from 0.0000 to 0.3665, saving to data/bert_sample.pt\n"
     ]
    }
   ],
   "source": [
    "# -- Still takes nearly 20 minutes to run --\n",
    "EPOCHS = 1\n",
    "LEARNING_RATE = 0.001\n",
    "\n",
    "bert_model = finetune_model(bert_model_name, bert_train_loader, bert_val_loader, bert_feature_idx_map, \n",
    "                            device, epochs = EPOCHS, learning_rate = LEARNING_RATE)"
   ]
  },
  {
   "cell_type": "code",
   "execution_count": 35,
   "metadata": {},
   "outputs": [
    {
     "name": "stdout",
     "output_type": "stream",
     "text": [
      "Progress: [====================] 6/6\n",
      "loss: 4.2687\tf1:0.2594\tacc:0.4438\n"
     ]
    }
   ],
   "source": [
    "# Evaluation the performance on test set\n",
    "bert_model.load('data/bert_sample.pt')\n",
    "bert_eval_metrics = bert_model.evaluate(bert_test_loader, bert_feature_idx_map, device)"
   ]
  },
  {
   "cell_type": "code",
   "execution_count": 36,
   "metadata": {},
   "outputs": [
    {
     "name": "stdout",
     "output_type": "stream",
     "text": [
      "Progress: [====================] 6/6\n",
      "loss: 6.5945\tf1:0.2584\tacc:0.4222\n"
     ]
    }
   ],
   "source": [
    "# Evalutating performance on the model without fine-tuining\n",
    "bert_non_finetuned = BertForQuestionAnswering.from_pretrained(bert_model_name)\n",
    "bert_non_finetuned.to(device)\n",
    "\n",
    "bert_newsqa_model = NewsQaModel(bert_non_finetuned)\n",
    "\n",
    "non_finetuned_eval_metrics = bert_newsqa_model.evaluate(bert_test_loader, bert_feature_idx_map, device)"
   ]
  },
  {
   "cell_type": "markdown",
   "metadata": {},
   "source": [
    "### DistilBERT"
   ]
  },
  {
   "cell_type": "code",
   "execution_count": 37,
   "metadata": {},
   "outputs": [],
   "source": [
    "# Defining model name\n",
    "dbert_model_name = 'distilbert-base-uncased-distilled-squad'"
   ]
  },
  {
   "cell_type": "code",
   "execution_count": 38,
   "metadata": {
    "scrolled": true
   },
   "outputs": [
    {
     "name": "stdout",
     "output_type": "stream",
     "text": [
      "Getting input features:\n",
      "Progress: [====================] 868/868\n",
      "\n",
      "Variable successfully saved in data/sample_dataset_distilbert.pkl\n"
     ]
    }
   ],
   "source": [
    "# Getting the training, validation and test sets\n",
    "dbert_datasets = get_datasets(examples, dbert_model_name)\n",
    "dbert_train_set, dbert_val_set, dbert_test_set, dbert_feature_idx_map = dbert_datasets"
   ]
  },
  {
   "cell_type": "code",
   "execution_count": 39,
   "metadata": {},
   "outputs": [],
   "source": [
    "# Getting data loaders\n",
    "BATCH_SIZE = 32\n",
    "\n",
    "dbert_loaders = get_dataloaders(dbert_train_set, dbert_val_set, dbert_test_set, batch_size = BATCH_SIZE)\n",
    "dbert_train_loader, dbert_val_loader, dbert_test_loader = dbert_loaders"
   ]
  },
  {
   "cell_type": "code",
   "execution_count": 40,
   "metadata": {},
   "outputs": [
    {
     "name": "stdout",
     "output_type": "stream",
     "text": [
      "Epoch 1/1:\n",
      "Progress: [====================] 19/19  3m 46s\tloss: 5.2801\tf1: 0.2657\tacc: 0.4006\tval_loss: 5.1082\tval_f1: 0.2170\tval_acc: 0.3504\n",
      "Validation accuracy increased from 0.0000 to 0.3504, saving to data/distilbert_sample.pt\n"
     ]
    }
   ],
   "source": [
    "EPOCHS = 1\n",
    "LEARNING_RATE = 0.001\n",
    "\n",
    "dbert_model = finetune_model(dbert_model_name, dbert_train_loader, dbert_val_loader, dbert_feature_idx_map, \n",
    "                             device, epochs = EPOCHS, learning_rate = LEARNING_RATE)"
   ]
  },
  {
   "cell_type": "code",
   "execution_count": 41,
   "metadata": {
    "scrolled": true
   },
   "outputs": [
    {
     "name": "stdout",
     "output_type": "stream",
     "text": [
      "Progress: [====================] 6/6\n",
      "loss: 4.7323\tf1:0.2539\tacc:0.3868\n"
     ]
    }
   ],
   "source": [
    "# Evaluation the performance on test set\n",
    "dbert_model.load('data/distilbert_sample.pt')\n",
    "dbert_eval_metrics = dbert_model.evaluate(dbert_test_loader, dbert_feature_idx_map, device)"
   ]
  },
  {
   "cell_type": "code",
   "execution_count": 42,
   "metadata": {},
   "outputs": [
    {
     "name": "stdout",
     "output_type": "stream",
     "text": [
      "Progress: [====================] 6/6\n",
      "loss: 7.1086\tf1:0.2501\tacc:0.3615\n"
     ]
    }
   ],
   "source": [
    "# Evalutating performance on the model without fine-tuining\n",
    "dbert_non_finetuned = DistilBertForQuestionAnswering.from_pretrained(dbert_model_name)\n",
    "dbert_non_finetuned.to(device)\n",
    "\n",
    "dbert_newsqa_model = NewsQaModel(dbert_non_finetuned)\n",
    "\n",
    "non_finetuned_eval_metrics = dbert_newsqa_model.evaluate(dbert_test_loader, dbert_feature_idx_map, device)"
   ]
  }
 ],
 "metadata": {
  "kernelspec": {
   "display_name": "Python 3",
   "language": "python",
   "name": "python3"
  },
  "language_info": {
   "codemirror_mode": {
    "name": "ipython",
    "version": 3
   },
   "file_extension": ".py",
   "mimetype": "text/x-python",
   "name": "python",
   "nbconvert_exporter": "python",
   "pygments_lexer": "ipython3",
   "version": "3.6.5"
  }
 },
 "nbformat": 4,
 "nbformat_minor": 4
}
